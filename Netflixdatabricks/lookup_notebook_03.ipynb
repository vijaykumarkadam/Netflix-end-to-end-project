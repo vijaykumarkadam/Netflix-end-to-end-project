{
 "cells": [
  {
   "cell_type": "code",
   "execution_count": 0,
   "metadata": {
    "application/vnd.databricks.v1+cell": {
     "cellMetadata": {
      "byteLimit": 2048000,
      "rowLimit": 10000
     },
     "inputWidgets": {},
     "nuid": "3a5b5c78-f84e-4650-af39-01846d7e2c79",
     "showTitle": false,
     "tableResultSettingsMap": {},
     "title": ""
    }
   },
   "outputs": [],
   "source": [
    "files = [\n",
    "    {\n",
    "        \"var_src_folder\" : \"netflix_cast\",\n",
    "        \"var_tgt_folder\" : \"netflix_cast\"\n",
    "    },\n",
    "    {\n",
    "        \"var_src_folder\" : \"netflix_category\",\n",
    "        \"var_tgt_folder\" : \"netflix_category\"\n",
    "    },\n",
    "    {\n",
    "        \"var_src_folder\" : \"netflix_countries\",\n",
    "        \"var_tgt_folder\" : \"netflix_countries\"\n",
    "    },\n",
    "    {\n",
    "        \"var_src_folder\" : \"netflix_directors\",\n",
    "        \"var_tgt_folder\" : \"netflix_directors\"\n",
    "    }\n",
    "]"
   ]
  },
  {
   "cell_type": "code",
   "execution_count": 0,
   "metadata": {
    "application/vnd.databricks.v1+cell": {
     "cellMetadata": {
      "byteLimit": 2048000,
      "rowLimit": 10000
     },
     "inputWidgets": {},
     "nuid": "121cd909-6fa4-49a4-b000-a65f9614496c",
     "showTitle": false,
     "tableResultSettingsMap": {},
     "title": ""
    }
   },
   "outputs": [],
   "source": [
    "dbutils.jobs.taskValues.set(key = \"my_arr\",value = files)"
   ]
  },
  {
   "cell_type": "code",
   "execution_count": 0,
   "metadata": {
    "application/vnd.databricks.v1+cell": {
     "cellMetadata": {},
     "inputWidgets": {},
     "nuid": "da1d5f65-9f42-4767-b9b8-9449aee60baa",
     "showTitle": false,
     "tableResultSettingsMap": {},
     "title": ""
    }
   },
   "outputs": [],
   "source": []
  }
 ],
 "metadata": {
  "application/vnd.databricks.v1+notebook": {
   "computePreferences": null,
   "dashboards": [],
   "environmentMetadata": {
    "base_environment": "",
    "environment_version": "3"
   },
   "inputWidgetPreferences": null,
   "language": "python",
   "notebookMetadata": {
    "pythonIndentUnit": 4
   },
   "notebookName": "lookup_notebook_03",
   "widgets": {}
  },
  "language_info": {
   "name": "python"
  }
 },
 "nbformat": 4,
 "nbformat_minor": 0
}
